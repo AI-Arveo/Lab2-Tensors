{
 "cells": [
  {
   "cell_type": "markdown",
   "metadata": {
    "id": "CZbEOXBUsiNg"
   },
   "source": [
    "# An introduction to PyTorch\n",
    "\n",
    "PyTorch is an optimized tensor library for deep learning using GPUs and CPUs, often used in state-of-the-art research. (Do not fear if you do not yet know what a tensor is, it will become clear in this small tutorial.)\n",
    "During this lab, we will first explain and demonstrate how PyTorch works, after which you will build both a linear regression model and a classifier on MNIST digits!\n",
    "\n",
    "For more information on PyTorch, you can visit the [official documentation](https://pytorch.org/docs/stable/index.html). Do not hesitate to contact us during the lab, or via mail when something is not clear:\n",
    "*   benoit.devrieze@uantwerpen.be\n",
    "*   stijn.vanraemdonck@uantwerpen.be\n",
    "\n",
    "The content of this notebook is inspired by the [Learn the Basics](https://pytorch.org/tutorials/beginner/basics/intro.html) series. Other tutorials can be found there as well.\n",
    "\n"
   ]
  },
  {
   "cell_type": "markdown",
   "metadata": {
    "id": "IFk7t7HxyALQ"
   },
   "source": [
    "## Tensors\n",
    "As promised, we will take a look at tensors. Tensors are a specialized data structure that is very similar to arrays and matrices. More specific, a Torch tensor is a multi-dimensional matrix containing elements of a single data type. In PyTorch, we use tensors to encode the inputs and outputs of a model, as well as the model’s parameters.\n",
    "\n",
    "Before we can start using these tensors, we need to import the correct libraries. To run the code below, click on the light-grey box and press \"ctrl + enter\". You can also run text fields after accidentally going to edit mode, such that it will be parsed (shift + enter)."
   ]
  },
  {
   "cell_type": "code",
   "execution_count": 6,
   "metadata": {
    "ExecuteTime": {
     "end_time": "2024-10-25T06:43:54.974219400Z",
     "start_time": "2024-10-25T06:43:54.964220500Z"
    },
    "id": "1kZbq07Msh36"
   },
   "outputs": [],
   "source": [
    "import torch\n",
    "import numpy as np\n",
    "import matplotlib.pyplot as plt\n",
    "import torchvision.transforms as transforms"
   ]
  },
  {
   "cell_type": "markdown",
   "metadata": {
    "id": "3PzXQNPcxHOf"
   },
   "source": [
    "### Initializing a Tensor\n",
    "Tensors can be initialized in various ways and with various data types. Take a look at the following examples:\n",
    "\n",
    "**Creating a Tensor directly from data**\n",
    "\n",
    "Tensors can be created directly from data. The data type is automatically inferred (in this example Torch infers the data type as integer)."
   ]
  },
  {
   "cell_type": "code",
   "execution_count": 3,
   "metadata": {
    "ExecuteTime": {
     "end_time": "2024-10-25T06:44:04.220384900Z",
     "start_time": "2024-10-25T06:44:04.180235300Z"
    },
    "id": "gEGxUEb5yhZP"
   },
   "outputs": [
    {
     "name": "stdout",
     "output_type": "stream",
     "text": [
      "tensor([[1, 2],\n",
      "        [3, 4]])\n",
      "torch.int64\n",
      "[[1, 2], [3, 4]]\n"
     ]
    }
   ],
   "source": [
    "data = [[1, 2],[3, 4]]\n",
    "x_data = torch.tensor(data)\n",
    "print(x_data)\n",
    "print(x_data.dtype)\n",
    "print(data)\n"
   ]
  },
  {
   "cell_type": "markdown",
   "metadata": {
    "id": "kJgVD0K6ysBG"
   },
   "source": [
    "**Creating a Tensor from a NumPy array**\n",
    "\n",
    "Tensors can be created from NumPy arrays (and vice versa).\n",
    "\n"
   ]
  },
  {
   "cell_type": "code",
   "execution_count": 4,
   "metadata": {
    "ExecuteTime": {
     "end_time": "2024-10-25T06:44:09.534280200Z",
     "start_time": "2024-10-25T06:44:09.524279100Z"
    },
    "id": "DCamz_scyuQ4"
   },
   "outputs": [
    {
     "name": "stdout",
     "output_type": "stream",
     "text": [
      "tensor([[1, 2],\n",
      "        [3, 4]], dtype=torch.int32)\n",
      "torch.int32\n"
     ]
    }
   ],
   "source": [
    "np_array = np.array(data)\n",
    "x_np = torch.from_numpy(np_array)\n",
    "print(x_np)\n",
    "print(x_np.dtype)"
   ]
  },
  {
   "cell_type": "markdown",
   "metadata": {
    "id": "Bung9CoR0zFv"
   },
   "source": [
    "**Creating a Tensor from another tensor:**\n",
    "\n",
    "The new tensor retains the properties (shape, datatype) of the argument tensor, unless explicitly overridden.\n"
   ]
  },
  {
   "cell_type": "code",
   "execution_count": 5,
   "metadata": {
    "ExecuteTime": {
     "end_time": "2024-10-25T06:44:15.232867400Z",
     "start_time": "2024-10-25T06:44:15.172578500Z"
    },
    "id": "ajaXjQDe03IS"
   },
   "outputs": [
    {
     "name": "stdout",
     "output_type": "stream",
     "text": [
      "Our base tensor: \n",
      " tensor([[1, 2],\n",
      "        [3, 4]], dtype=torch.int16) \n",
      " with shape: \n",
      " torch.Size([2, 2]) \n",
      "\n",
      "Ones Tensor: \n",
      " tensor([[1, 1],\n",
      "        [1, 1]], dtype=torch.int16) \n",
      "\n",
      "Random Tensor: \n",
      " tensor([[0.8373, 0.0394],\n",
      "        [0.2131, 0.4713]]) \n",
      " with data type: \n",
      " torch.float32\n"
     ]
    }
   ],
   "source": [
    "x_temp = torch.ShortTensor([[1, 2], [3, 4], ])  # as an example, we will create a 2D-tensor, with data type equaling a signed 16-bit Integer\n",
    "print(f\"Our base tensor: \\n {x_temp} \\n with shape: \\n {x_temp.shape} \\n\")\n",
    "\n",
    "x_ones = torch.ones_like(x_temp) # retains the properties of x_temp\n",
    "print(f\"Ones Tensor: \\n {x_ones} \\n\")\n",
    "\n",
    "x_rand = torch.rand_like(x_temp, dtype=torch.float) # overrides the datatype of x_temp\n",
    "print(f\"Random Tensor: \\n {x_rand} \\n with data type: \\n {x_rand.dtype}\")"
   ]
  },
  {
   "cell_type": "markdown",
   "metadata": {
    "id": "ZRzgh49x2hx4"
   },
   "source": [
    "**Creating a Tensor with random or constant values:**\n",
    "\n",
    "``shape`` is a tuple of tensor dimensions. In the functions below, it determines the dimensionality of the output tensor."
   ]
  },
  {
   "cell_type": "code",
   "execution_count": 6,
   "metadata": {
    "ExecuteTime": {
     "end_time": "2024-10-25T06:44:27.387546Z",
     "start_time": "2024-10-25T06:44:27.357546200Z"
    },
    "id": "EtbBj1bJ2jDc"
   },
   "outputs": [
    {
     "name": "stdout",
     "output_type": "stream",
     "text": [
      "Random Tensor: \n",
      " tensor([[0.1345, 0.7871, 0.3400],\n",
      "        [0.0941, 0.2881, 0.3943]]) \n",
      "\n",
      "Ones Tensor: \n",
      " tensor([[1., 1., 1.],\n",
      "        [1., 1., 1.]]) \n",
      "\n",
      "Zeros Tensor: \n",
      " tensor([[0., 0., 0.],\n",
      "        [0., 0., 0.]])\n"
     ]
    }
   ],
   "source": [
    "shape = (2,3)\n",
    "rand_tensor = torch.rand(shape)\n",
    "ones_tensor = torch.ones(shape)\n",
    "zeros_tensor = torch.zeros(shape)\n",
    "\n",
    "print(f\"Random Tensor: \\n {rand_tensor} \\n\")\n",
    "print(f\"Ones Tensor: \\n {ones_tensor} \\n\")\n",
    "print(f\"Zeros Tensor: \\n {zeros_tensor}\")"
   ]
  },
  {
   "cell_type": "markdown",
   "metadata": {
    "id": "5W-PJzScyrx1"
   },
   "source": [
    "**Alternative ways to create a tensor**\n",
    "\n",
    "You've now seen that there are many ways to create a tensor. There are however many alternatives to these methods.\n",
    "For example: if you want a tensor with a 32-bit floating point data type (often abbreviated as dtype), you can create it as follows:\n"
   ]
  },
  {
   "cell_type": "code",
   "execution_count": 7,
   "metadata": {
    "ExecuteTime": {
     "end_time": "2024-10-25T06:44:31.084076400Z",
     "start_time": "2024-10-25T06:44:31.074076900Z"
    },
    "id": "O4ND-0kKsWUL"
   },
   "outputs": [
    {
     "name": "stdout",
     "output_type": "stream",
     "text": [
      "tensor([[5.4366e+22, 5.3540e+22],\n",
      "        [1.0525e+21, 1.0741e-05],\n",
      "        [5.4174e-05, 4.2726e-05]])\n",
      "torch.Size([3, 2])\n"
     ]
    }
   ],
   "source": [
    "tensor = torch.FloatTensor(3, 2)\n",
    "print(tensor)\n",
    "print(tensor.shape)"
   ]
  },
  {
   "cell_type": "markdown",
   "metadata": {
    "id": "a_Wnz_Z13sC1"
   },
   "source": [
    "If you're interrested in viewing other initialisation options, visit [this link](https://pytorch.org/docs/stable/tensors.html)"
   ]
  },
  {
   "cell_type": "markdown",
   "metadata": {
    "id": "0ajDGiaE4eVj"
   },
   "source": [
    "### Short visual explanation of a tensor\n",
    "*This part can be skipped if you have a thorough understanding of tensors.*\n",
    "\n",
    "#### One Dimension\n",
    "\n",
    "Lets take a look at two use cases of a 1D-tensor with 3 values, as we can still very easily visualize it:"
   ]
  },
  {
   "cell_type": "code",
   "execution_count": 9,
   "metadata": {
    "ExecuteTime": {
     "end_time": "2024-10-25T06:44:42.445817500Z",
     "start_time": "2024-10-25T06:44:42.425795600Z"
    },
    "id": "_OvjP-1b45Cm"
   },
   "outputs": [
    {
     "name": "stdout",
     "output_type": "stream",
     "text": [
      "tensor([0.0800, 0.9000, 0.0200])\n",
      "torch.Size([3])\n"
     ]
    }
   ],
   "source": [
    "position_tensor = torch.FloatTensor([0.08, 0.9, 0.02])\n",
    "print(position_tensor)\n",
    "print(position_tensor.shape)"
   ]
  },
  {
   "cell_type": "markdown",
   "metadata": {
    "id": "kM5Emt4l6MMZ"
   },
   "source": [
    "Depending on the use case, this one dimensional tensor could either represent an (x, y, z) location or act as the final layer of a classification network. In the first case this can represent a point or a vector in space as follows:\n",
    "\n",
    "**Point**\n",
    "\n",
    "![point_image](images/point.png)\n",
    "\n",
    "**Vector**\n",
    "\n",
    "![vector_image](images/vector.png)\n"
   ]
  },
  {
   "cell_type": "markdown",
   "metadata": {
    "id": "pTvUe6YIEWWV"
   },
   "source": [
    "Imagine the latter use case, such that it classifies images in one of the following classes: [dog, cat, bird]. In that case, it shows how convinced the network is that a given input is a dog, cat or bird. E.g. if the output is [0.08, 0.9, 0.02], the network believes that the image contains a cat."
   ]
  },
  {
   "cell_type": "markdown",
   "metadata": {
    "id": "zjKNA0anExNB"
   },
   "source": [
    "#### Two and more dimensions\n",
    "\n"
   ]
  },
  {
   "cell_type": "markdown",
   "metadata": {
    "id": "f02XZJuuAJdt"
   },
   "source": [
    "Once we go to higher dimensions, it might become difficult to understand what the tensor represents. Thats why we will create a quick and intuitive example.\n",
    "\n",
    "Lets create a method to visualize a tensor. To do this, we need to understand the shapes of PyTorch and matplotlib. PyTorch mostly work with shape (Batch size, Channels, Height, Width), whereas PyPlot works with shape (Width, Height, Channels)."
   ]
  },
  {
   "cell_type": "code",
   "execution_count": 7,
   "metadata": {
    "ExecuteTime": {
     "end_time": "2024-10-25T06:46:47.456836200Z",
     "start_time": "2024-10-25T06:46:47.446833800Z"
    },
    "id": "VZsE20IZEwZ2"
   },
   "outputs": [],
   "source": [
    "\n",
    "def plot_tensor(to_plot: torch.Tensor):\n",
    "  plt.imshow(transforms.ToPILImage()(to_plot), interpolation=\"None\")\n"
   ]
  },
  {
   "cell_type": "markdown",
   "metadata": {
    "id": "khDGh5lqCIGM"
   },
   "source": [
    "Now we will create a very small RGB image of shape (3, 2, 4), representing (RGB, Height, Width)."
   ]
  },
  {
   "cell_type": "code",
   "execution_count": 8,
   "metadata": {
    "ExecuteTime": {
     "end_time": "2024-10-25T06:46:53.404776600Z",
     "start_time": "2024-10-25T06:46:53.220456500Z"
    },
    "id": "eszgysx_BWwn"
   },
   "outputs": [
    {
     "name": "stdout",
     "output_type": "stream",
     "text": [
      "RGB image tensor: \n",
      " tensor([[[0., 0., 0., 0.],\n",
      "         [1., 1., 1., 1.]],\n",
      "\n",
      "        [[0., 0., 1., 1.],\n",
      "         [0., 0., 1., 1.]],\n",
      "\n",
      "        [[0., 1., 0., 1.],\n",
      "         [0., 1., 0., 1.]]]), with shape:torch.Size([3, 2, 4]). \n",
      "\n",
      "Plotting this tensor: \n",
      " \n"
     ]
    },
    {
     "data": {
      "image/png": "[encoded data removed]",
      "text/plain": [
       "<Figure size 640x480 with 1 Axes>"
      ]
     },
     "metadata": {},
     "output_type": "display_data"
    }
   ],
   "source": [
    "blue_channel = [[0, 1, 0, 1],\n",
    "                [0, 1, 0, 1]]\n",
    "green_channel = [[0, 0, 1, 1],\n",
    "                 [0, 0, 1, 1]]\n",
    "red_channel = [[0, 0, 0, 0],\n",
    "               [1, 1, 1, 1]]\n",
    "rgb = [red_channel, green_channel, blue_channel]\n",
    "\n",
    "image = torch.FloatTensor(rgb)\n",
    "print(f\"RGB image tensor: \\n {image}, with shape:{image.shape}. \\n\")\n",
    "\n",
    "print(f\"Plotting this tensor: \\n \")\n",
    "plot_tensor(image)"
   ]
  },
  {
   "cell_type": "markdown",
   "metadata": {
    "id": "JlDUlUZzG6RB"
   },
   "source": [
    "As can be seen now, this high dimensional tensor is actually not that difficult to understand. It can be seen as three 2D matrixes of a certain size, where each matrix represents a certain color value. Those three matrices are then concatenated on the first dimension to represent an RGB image."
   ]
  },
  {
   "cell_type": "markdown",
   "metadata": {
    "id": "rRTaBXEYHj9q"
   },
   "source": [
    "### Tensor operations\n",
    "Now that we understand what tensors are, we want to perform some operations with them. We have all the default operations (sum, difference, quotient, element-wise multiplication), as well as more advanced operations (sin, cos, tan, dot product, ...).\n",
    "\n",
    "see https://pytorch.org/docs/stable/tensors.html# for a list of all operations."
   ]
  },
  {
   "cell_type": "code",
   "execution_count": 10,
   "metadata": {
    "id": "6zbtjPhqI3Fp"
   },
   "outputs": [
    {
     "name": "stdout",
     "output_type": "stream",
     "text": [
      "Tensor 1:\n",
      "\ttensor([[1, 2],\n",
      "        [3, 4]])\n",
      "Tensor 2:\n",
      "\ttensor([[4, 3],\n",
      "        [2, 1]])\n",
      "The sum is:\n",
      "\ttensor([[5, 5],\n",
      "        [5, 5]])\n",
      "The difference is:\n",
      "\ttensor([[-3, -1],\n",
      "        [ 1,  3]])\n",
      "The element-wise product is:\n",
      "\ttensor([[4, 6],\n",
      "        [6, 4]])\n",
      "The division is:\n",
      "\ttensor([[0.2500, 0.6667],\n",
      "        [1.5000, 4.0000]])\n",
      "The product with a constant '5' is:\n",
      "\ttensor([[ 5, 10],\n",
      "        [15, 20]])\n"
     ]
    }
   ],
   "source": [
    "tensor1 = torch.tensor([[1, 2],[3, 4]])\n",
    "tensor2 = torch.tensor([[4, 3],[2, 1]])\n",
    "print(f\"Tensor 1:\\n\\t{tensor1}\")\n",
    "print(f\"Tensor 2:\\n\\t{tensor2}\")\n",
    "\n",
    "sum = tensor1 + tensor2\n",
    "print(f\"The sum is:\\n\\t{sum}\")\n",
    "difference = tensor1 - tensor2\n",
    "print(f\"The difference is:\\n\\t{difference}\")\n",
    "product = tensor1 * tensor2\n",
    "print(f\"The element-wise product is:\\n\\t{product}\")\n",
    "quotient = tensor1 / tensor2\n",
    "print(f\"The division is:\\n\\t{quotient}\")\n",
    "\n",
    "product_w_constant = tensor1 * 5\n",
    "print(f\"The product with a constant '5' is:\\n\\t{product_w_constant}\")"
   ]
  },
  {
   "cell_type": "markdown",
   "metadata": {
    "id": "dCGNOSQPrMpL"
   },
   "source": [
    "### Broadcasting"
   ]
  },
  {
   "cell_type": "markdown",
   "metadata": {
    "id": "qcoAQ9eVKdyB"
   },
   "source": [
    "Something very usefull and important to keep in mind is that PyTorch can **broadcast** tensors. In short, if a PyTorch operation supports broadcast, then its Tensor arguments can be automatically expanded to be of equal sizes (without making copies of the data).\n",
    "\n",
    "Two tensors are “broadcastable” if the following rules hold:\n",
    "- Each tensor has at least one dimension.\n",
    "- When iterating over the dimension sizes, starting at the trailing dimension, the dimension sizes must either be equal, one of them is 1, or one of them does not exist.\n",
    "\n",
    "*Source https://pytorch.org/docs/stable/notes/broadcasting.html*.\n"
   ]
  },
  {
   "cell_type": "code",
   "execution_count": 14,
   "metadata": {
    "id": "O8FDClADLAzd"
   },
   "outputs": [],
   "source": [
    "x=torch.empty(5,7,3)\n",
    "y=torch.empty(5,7,3)\n",
    "# same shapes are always broadcastable (i.e. the above rules always hold)\n",
    "\n",
    "x=torch.empty((0,))\n",
    "y=torch.empty(2,2)\n",
    "# x and y are not broadcastable, because x does not have at least 1 dimension\n",
    "\n",
    "# can line up trailing dimensions\n",
    "x=torch.empty(5,3,4,1)\n",
    "y=torch.empty(  3,1,1)\n",
    "# x and y are broadcastable.\n",
    "# 1st trailing dimension: both have size 1\n",
    "# 2nd trailing dimension: y has size 1\n",
    "# 3rd trailing dimension: x size == y size\n",
    "# 4th trailing dimension: y dimension doesn't exist\n",
    "\n",
    "# but:\n",
    "x=torch.empty(5,2,4,1)\n",
    "y=torch.empty(  3,1,1)\n",
    "# x and y are not broadcastable, because in the 3rd trailing dimension 2 != 3"
   ]
  },
  {
   "cell_type": "markdown",
   "metadata": {
    "id": "-2wL0I6BLhEr"
   },
   "source": [
    "If two tensors x, y are “broadcastable”, the resulting tensor size is calculated as follows:\n",
    "- If the number of dimensions of x and y are not equal, prepend 1 to the dimensions of the tensor with fewer dimensions to make them equal length.\n",
    "- Then, for each dimension size, the resulting dimension size is the max of the sizes of x and y along that dimension.\n",
    "\n",
    "For Example:"
   ]
  },
  {
   "cell_type": "code",
   "execution_count": 16,
   "metadata": {
    "id": "z2SFnovqLSPu"
   },
   "outputs": [
    {
     "name": "stdout",
     "output_type": "stream",
     "text": [
      "These two tensors are broadcastable \n",
      " The resulting size is: torch.Size([5, 3, 4, 1]) \n",
      "\n",
      "These two tensors are broadcastable \n",
      " The resulting size is: torch.Size([3, 1, 7]) \n",
      "\n",
      "These two tensors are not broadcastable \n",
      " Adding them together gives us an error:\n"
     ]
    },
    {
     "ename": "RuntimeError",
     "evalue": "The size of tensor a (2) must match the size of tensor b (3) at non-singleton dimension 1",
     "output_type": "error",
     "traceback": [
      "\u001b[1;31m---------------------------------------------------------------------------\u001b[0m",
      "\u001b[1;31mRuntimeError\u001b[0m                              Traceback (most recent call last)",
      "Cell \u001b[1;32mIn[16], line 15\u001b[0m\n\u001b[0;32m     13\u001b[0m y\u001b[38;5;241m=\u001b[39mtorch\u001b[38;5;241m.\u001b[39mempty(\u001b[38;5;241m3\u001b[39m,\u001b[38;5;241m1\u001b[39m,\u001b[38;5;241m1\u001b[39m)\n\u001b[0;32m     14\u001b[0m \u001b[38;5;28mprint\u001b[39m(\u001b[38;5;124mf\u001b[39m\u001b[38;5;124m\"\u001b[39m\u001b[38;5;124mThese two tensors are not broadcastable \u001b[39m\u001b[38;5;130;01m\\n\u001b[39;00m\u001b[38;5;124m Adding them together gives us an error:\u001b[39m\u001b[38;5;124m\"\u001b[39m)\n\u001b[1;32m---> 15\u001b[0m z \u001b[38;5;241m=\u001b[39m \u001b[43mx\u001b[49m\u001b[38;5;241;43m+\u001b[39;49m\u001b[43my\u001b[49m\n",
      "\u001b[1;31mRuntimeError\u001b[0m: The size of tensor a (2) must match the size of tensor b (3) at non-singleton dimension 1"
     ]
    }
   ],
   "source": [
    "# can line up trailing dimensions to make reading easier\n",
    "x=torch.empty(5,1,4,1)\n",
    "y=torch.empty(  3,1,1)\n",
    "print(f\"These two tensors are broadcastable \\n The resulting size is: {(x+y).size()} \\n\")\n",
    "\n",
    "# but not necessary:\n",
    "x=torch.empty(1)\n",
    "y=torch.empty(3,1,7)\n",
    "print(f\"These two tensors are broadcastable \\n The resulting size is: {(x+y).size()} \\n\")\n",
    "\n",
    "# The code below will give a runtime error\n",
    "x=torch.empty(5,2,4,1)\n",
    "y=torch.empty(3,1,1)\n",
    "print(f\"These two tensors are not broadcastable \\n Adding them together gives us an error:\")\n",
    "z = x+y\n"
   ]
  },
  {
   "cell_type": "markdown",
   "metadata": {
    "id": "58JBSY4z0nRQ"
   },
   "source": [
    "# Gradients"
   ]
  },
  {
   "cell_type": "markdown",
   "metadata": {
    "id": "pL_yVaTjMpGD"
   },
   "source": [
    "Finally we will take a look at how the gradients work. This will become more clear during the lab as well."
   ]
  },
  {
   "cell_type": "markdown",
   "metadata": {
    "id": "Ye2wZZv3M3P2"
   },
   "source": [
    "Autograd is an automatic differentiation system. Conceptually, autograd records a graph recording all of the operations that created the data as you execute operations on them. This gives you a graph whose leaves are the input tensors and roots are the output tensors. By tracing this graph from roots to leaves, you can automatically compute the gradients using the chain rule (see example below).\n",
    "\n",
    "Internally, autograd represents this graph as a graph of Function objects. When computing the forwards pass, autograd simultaneously performs the requested computations and builds up a graph representing the function that computes the gradient (the .grad_fn attribute of each torch.Tensor is an entry point into this graph). When the forwards pass is completed, we evaluate this graph in the backwards pass to compute the gradients.\n",
    "\n",
    "An example is elaborated below: by default a tensor's \"requires grad\" field is set to False. This means that no gradients will be calculated, thus the grad field is None."
   ]
  },
  {
   "cell_type": "code",
   "execution_count": 18,
   "metadata": {
    "id": "STvA07aDMp4a"
   },
   "outputs": [
    {
     "name": "stdout",
     "output_type": "stream",
     "text": [
      "tensor([[1., 2.],\n",
      "        [3., 4.]])\n",
      "requires_grad: False\n",
      "grad: None\n",
      "tensor([[4., 3.],\n",
      "        [2., 1.]])\n",
      "requires_grad: False\n",
      "grad: None\n"
     ]
    }
   ],
   "source": [
    "tensor1 = torch.FloatTensor([[1, 2],[3, 4]])\n",
    "print(tensor1)\n",
    "print(f\"requires_grad: {tensor1.requires_grad}\")\n",
    "print(f\"grad: {tensor1.grad}\")\n",
    "\n",
    "tensor2 = torch.FloatTensor([[4, 3],[2, 1]])\n",
    "print(tensor2)\n",
    "print(f\"requires_grad: {tensor2.requires_grad}\")\n",
    "print(f\"grad: {tensor2.grad}\")"
   ]
  },
  {
   "cell_type": "markdown",
   "metadata": {
    "id": "bp8dqB1JNEMT"
   },
   "source": [
    "When we set the requires_grad bool to True, the computational graph containing the order of functions will be saved as well. Lets see an example below where we compute the calculation $output = tensor1^2 * tensor2 + 1$"
   ]
  },
  {
   "cell_type": "code",
   "execution_count": 22,
   "metadata": {
    "id": "3IFSfdkAMyBq"
   },
   "outputs": [
    {
     "name": "stdout",
     "output_type": "stream",
     "text": [
      "tensor1:\n",
      "\ttensor([[1., 2.],\n",
      "        [3., 4.]], requires_grad=True)\n",
      "tensor2:\n",
      "\ttensor([[4., 3.],\n",
      "        [2., 1.]])\n",
      "tensor3:\n",
      "\ttensor([[1., 1.],\n",
      "        [1., 1.]])\n",
      "\n",
      "\n",
      "intermidiate_output:\n",
      "\ttensor([[ 4., 12.],\n",
      "        [18., 16.]], grad_fn=<MulBackward0>)\n",
      "output:\n",
      "\ttensor([[ 5., 13.],\n",
      "        [19., 17.]], grad_fn=<AddBackward0>)\n",
      "\n",
      "\n",
      "tensor1.grad:\n",
      "\ttensor([[ 8., 12.],\n",
      "        [12.,  8.]])\n"
     ]
    }
   ],
   "source": [
    "tensor1.requires_grad = True\n",
    "print(f\"tensor1:\\n\\t{tensor1}\")\n",
    "print(f\"tensor2:\\n\\t{tensor2}\")\n",
    "tensor3 = torch.ones_like(tensor1)\n",
    "print(f\"tensor3:\\n\\t{tensor3}\")\n",
    "\n",
    "intermidiate_output = torch.pow(tensor1, 2) * tensor2\n",
    "output = intermidiate_output + tensor3\n",
    "print(f\"\\n\\nintermidiate_output:\\n\\t{intermidiate_output}\")\n",
    "print(f\"output:\\n\\t{output}\")\n",
    "\n",
    "\n",
    "# Gradients are cumulated with each backprop, therefore it is safer to zero them out first\n",
    "tensor1.grad = torch.zeros_like(tensor1)\n",
    "output.backward(torch.ones_like(output))\n",
    "print(f\"\\n\\ntensor1.grad:\\n\\t{tensor1.grad}\")"
   ]
  },
  {
   "cell_type": "markdown",
   "metadata": {
    "id": "sxcQVbNAgTyh"
   },
   "source": [
    "Note a few things here, first the backward function on the intermediate output is a multiplication (MulBackward0), whereas the output itself contains AddBackward0 as function. Second, note how we zero the grads out before running. Comment this line out and run the code above a few times. Notice how the gradients are added every time, thats why it it important to zero them out first. Thirdly, the backward function might seem a bit strange as we give \"torch.ones_like(output)\" as an argument... This is because we still have a matrix of dimensions 2x2 instead of one single number as output. More specifically, the loss is usual a scalar; in this case, you don't need to put `torch.ones_like(output)`.\n",
    "\n",
    "Because the output is a matrix of dimensions 2x2, we need to derrive the gradient at every position separately. Lets derive one of the 4 grad elements (1, 1) together:\n",
    "\n",
    "$\\frac{δ output}{δx} = \\frac{δ(x^2 * 4 + 1)}{δx} = 8x = 8$ (because x = 1)\n",
    "\n",
    "As can be seen here, we first derive the funtion with respect to a certain tensor, in our case `tensor1`. When we fill in the value of this tensor, we obtain the gradient of this forward pass with respect to that tensor."
   ]
  },
  {
   "cell_type": "markdown",
   "metadata": {
    "id": "5XJrZ-OIkuk5"
   },
   "source": [
    "Can you derrive the other elements as well?"
   ]
  }
 ],
 "metadata": {
  "colab": {
   "provenance": []
  },
  "kernelspec": {
   "display_name": "Python 3 (ipykernel)",
   "language": "python",
   "name": "python3"
  },
  "language_info": {
   "codemirror_mode": {
    "name": "ipython",
    "version": 3
   },
   "file_extension": ".py",
   "mimetype": "text/x-python",
   "name": "python",
   "nbconvert_exporter": "python",
   "pygments_lexer": "ipython3",
   "version": "3.11.2"
  }
 },
 "nbformat": 4,
 "nbformat_minor": 4
}
